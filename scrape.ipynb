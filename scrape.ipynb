{
 "cells": [
  {
   "cell_type": "code",
   "execution_count": null,
   "id": "1f4ed619-0f03-4234-a02c-04f6adba6cc1",
   "metadata": {},
   "outputs": [],
   "source": [
    "import re\n",
    "import os\n",
    "\n",
    "import requests\n",
    "import dateparser\n",
    "\n",
    "from bs4 import BeautifulSoup\n",
    "from datetime import datetime\n",
    "\n",
    "import pandas as pd\n",
    "from time import sleep"
   ]
  },
  {
   "cell_type": "code",
   "execution_count": null,
   "id": "89638ff9-e699-4d9e-8b1a-ae07f0e9421d",
   "metadata": {},
   "outputs": [],
   "source": [
    "print(os.environ.get('BORD4_ENV_TEST'))"
   ]
  },
  {
   "cell_type": "code",
   "execution_count": null,
   "id": "7816e02b-d4d0-4cdc-840b-f96da5f2e8f6",
   "metadata": {},
   "outputs": [],
   "source": [
    "timeout = os.environ.get('BORD4_TIMEOUT') or 1"
   ]
  },
  {
   "cell_type": "code",
   "execution_count": null,
   "id": "401cb662-73e8-4071-a423-db5452dd0aec",
   "metadata": {},
   "outputs": [],
   "source": [
    "session = requests.session()\n",
    "sender = os.environ.get('BORD4_SENDER') or 'Bord 4'\n",
    "session.headers.update({\n",
    "    \"User-Agent\": f\"BT_badetemperaturbot (Bergens Tidende - {sender})\"\n",
    "})"
   ]
  },
  {
   "cell_type": "code",
   "execution_count": null,
   "id": "e89f85f3-90c1-4b0e-b340-ab86164deaa7",
   "metadata": {},
   "outputs": [],
   "source": [
    "def get_spots_at_page(url):\n",
    "    sleep(timeout)\n",
    "    response = session.get(url)\n",
    "    \n",
    "    return list(\n",
    "        map(\n",
    "            lambda x: x.find('a').get('href'),\n",
    "            BeautifulSoup(response.text) \\\n",
    "                .find(class_='ece_module_list') \\\n",
    "                .find_all(class_='ece_module_container')\n",
    "        )\n",
    "    )"
   ]
  },
  {
   "cell_type": "code",
   "execution_count": null,
   "id": "57dc1ba5-d89b-41f0-887d-a8558974e0f1",
   "metadata": {},
   "outputs": [],
   "source": [
    "def get_all_spots():\n",
    "    url = 'https://www.bergen.kommune.no/hvaskjer/tema/badevann-og-parker/badeplasser'\n",
    "    \n",
    "    base_response = session.get(url)\n",
    "    \n",
    "    subpages = map(\n",
    "        lambda x: x.get('href'),\n",
    "        BeautifulSoup(base_response.text) \\\n",
    "            .find(class_='article__content') \\\n",
    "            .find('ul') \\\n",
    "            .find_all('a')\n",
    "    )\n",
    "    \n",
    "    spots = []\n",
    "    for subpage in subpages:\n",
    "        spots += get_spots_at_page(subpage)\n",
    "    return spots"
   ]
  },
  {
   "cell_type": "code",
   "execution_count": null,
   "id": "0322499c-635c-421f-9a67-6cefc5531f98",
   "metadata": {},
   "outputs": [],
   "source": [
    "def get_base_data_for_spot(spot_url):\n",
    "    data = {}\n",
    "    data[\"url\"] = f'https://www.bergen.kommune.no{spot_url}'\n",
    "    \n",
    "    sleep(timeout)\n",
    "    response = session.get(data[\"url\"])\n",
    "    \n",
    "    page = BeautifulSoup(response.text)\n",
    "\n",
    "    data[\"name\"] = page.find('h1').text\n",
    "    iframe = page.find('iframe')\n",
    "    if iframe is not None:\n",
    "        data[\"api\"] = iframe.get('src')\n",
    "    data[\"description\"] = re.sub('(\\s*\\n\\s*)+', '\\n', re.sub(' +', ' ', page.find(class_='article__content').text.strip()))\n",
    "    \n",
    "    return data"
   ]
  },
  {
   "cell_type": "code",
   "execution_count": null,
   "id": "15a59f75-14c5-475d-9251-dea958110d44",
   "metadata": {},
   "outputs": [],
   "source": [
    "def get_data_from_api(path):\n",
    "    if path == '':\n",
    "        return None\n",
    "    \n",
    "    sleep(timeout)\n",
    "    response = session.get(f'https://www.bergen.kommune.no{path}')\n",
    "    soup = BeautifulSoup(response.text)\n",
    "    \n",
    "    data = {}\n",
    "    data[\"quality\"] = soup.find(class_=\"bade_kvalitet\").find(class_=\"bade_verdi\").text\n",
    "    data[\"quality_reported_at\"] = soup.find(class_=\"bade_kvalitet\").find(class_=\"bade_tidspkt\").text\n",
    "\n",
    "    data[\"temperature\"] = soup.find(class_=\"bade_temperatur\").find(class_=\"bade_verdi\").text\n",
    "    data[\"temperature_reported_at\"] = soup.find(class_=\"bade_temperatur\").find(class_=\"bade_tidspkt\").text\n",
    "    \n",
    "    return data"
   ]
  },
  {
   "cell_type": "code",
   "execution_count": null,
   "id": "a46667e2-2e21-402a-babd-2aa1b49f3aa2",
   "metadata": {},
   "outputs": [],
   "source": [
    "def custom_dateparse(string):\n",
    "    if string == '':\n",
    "        return None\n",
    "    \n",
    "    string = re.sub('sist målt: ?', '', string, flags=re.I)\n",
    "    string = re.sub('klokken ?', '', string, flags=re.I)\n",
    "    return dateparser.parse(string).isoformat()"
   ]
  },
  {
   "cell_type": "code",
   "execution_count": null,
   "id": "bb0e0e98-91cd-4fc3-89a5-278972fc637f",
   "metadata": {},
   "outputs": [],
   "source": [
    "spots = get_all_spots()"
   ]
  },
  {
   "cell_type": "code",
   "execution_count": null,
   "id": "e6018924-6a82-442b-a808-ad80868a8d3c",
   "metadata": {},
   "outputs": [],
   "source": [
    "data = map(get_base_data_for_spot, spots)"
   ]
  },
  {
   "cell_type": "code",
   "execution_count": null,
   "id": "58e5f011-60f0-4015-8cdf-150d3dd86bda",
   "metadata": {},
   "outputs": [],
   "source": [
    "df = pd.DataFrame.from_records(data)\n",
    "df.api = df.api.fillna('').astype(str)\n",
    "df.loc[~df.api.str.startswith('/'), 'api'] = ''"
   ]
  },
  {
   "cell_type": "code",
   "execution_count": null,
   "id": "db14f7ee-b5de-4323-aca9-f759f402d67d",
   "metadata": {},
   "outputs": [],
   "source": [
    "df[\"api_data\"] = list(map(get_data_from_api, df.api))"
   ]
  },
  {
   "cell_type": "code",
   "execution_count": null,
   "id": "b3057bfa-7f5f-478c-abf8-c87e90e7284a",
   "metadata": {},
   "outputs": [],
   "source": [
    "df_api_data = pd.DataFrame.from_records(\n",
    "    map(\n",
    "        lambda x: x if x is not None else {},\n",
    "        df.api_data\n",
    "    )\n",
    ")\n",
    "\n",
    "df[df_api_data.columns] = df_api_data\n",
    "df.temperature_reported_at = list(map(custom_dateparse, df.temperature_reported_at.fillna('')))\n",
    "df.quality_reported_at = list(map(custom_dateparse, df.quality_reported_at.fillna('')))\n",
    "\n",
    "df.temperature = df.temperature.fillna('') \\\n",
    "    .str.replace(',', '.') \\\n",
    "    .str.replace('°C', '') \\\n",
    "    .replace('', None) \\\n",
    "    .astype(float)"
   ]
  },
  {
   "cell_type": "code",
   "execution_count": null,
   "id": "90c0539c-3d99-4c64-ac95-874136ffd5e9",
   "metadata": {},
   "outputs": [],
   "source": [
    "if (\n",
    "    type(df) == pd.core.frame.DataFrame\n",
    "    and df.shape[0] > 0\n",
    "    and df.shape[1] == 9\n",
    "):\n",
    "    print('Saved!')\n",
    "    df.drop(columns=['description']).to_csv(f'data/{datetime.now().strftime(\"%Y-%m-%d\")}.csv', index=False)\n",
    "    df.to_csv('data/latest.csv', index=False)"
   ]
  }
 ],
 "metadata": {
  "kernelspec": {
   "display_name": "Python 3 (ipykernel)",
   "language": "python",
   "name": "python3"
  },
  "language_info": {
   "codemirror_mode": {
    "name": "ipython",
    "version": 3
   },
   "file_extension": ".py",
   "mimetype": "text/x-python",
   "name": "python",
   "nbconvert_exporter": "python",
   "pygments_lexer": "ipython3",
   "version": "3.11.1"
  }
 },
 "nbformat": 4,
 "nbformat_minor": 5
}
